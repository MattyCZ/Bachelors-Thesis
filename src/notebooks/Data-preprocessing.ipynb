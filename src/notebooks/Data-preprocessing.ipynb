{
 "cells": [
  {
   "cell_type": "markdown",
   "metadata": {},
   "source": [
    "# Imports"
   ]
  },
  {
   "cell_type": "code",
   "execution_count": 1,
   "metadata": {},
   "outputs": [],
   "source": [
    "import pandas as pd\n",
    "import cv2\n",
    "import os\n",
    "import glob\n",
    "import xlrd\n",
    "import numpy as np\n",
    "from pathlib import Path\n",
    "from datetime import datetime\n",
    "import numpy as np\n",
    "import imgaug as ia\n",
    "import imgaug.augmenters as iaa\n",
    "import logging\n",
    "import random\n",
    "import tqdm\n",
    "\n",
    "import sys\n",
    "\n",
    "pd.options.display.max_rows = 4000\n",
    "pd.options.display.max_seq_items = 2000"
   ]
  },
  {
   "cell_type": "markdown",
   "metadata": {},
   "source": [
    "# Extract information from excel to dataframe"
   ]
  },
  {
   "cell_type": "markdown",
   "metadata": {},
   "source": [
    "Data are distributed in multiple excel files (one excel sheet). I need to combine those excel files together to dataframe."
   ]
  },
  {
   "cell_type": "code",
   "execution_count": 2,
   "metadata": {},
   "outputs": [
    {
     "name": "stdout",
     "output_type": "stream",
     "text": [
      "Log files/CCTV SterteAvenue West.xlsx\n",
      "Log files/CCTV SterteAvenue.xlsx\n",
      "Log files/CCTV survey 11065.xlsx\n",
      "Log files/CCTV survey 11424.xlsx\n",
      "Log files/CCTV survey 114246.xlsx\n",
      "Log files/CCTV survey 114458.xlsx\n",
      "Log files/CCTV survey 115480.xlsx\n",
      "Log files/CCTV survey 115732.xlsx\n",
      "Log files/CCTV survey 116758.xlsx\n",
      "Log files/CCTV survey 116814.xlsx\n",
      "Log files/CCTV survey 116892.xlsx\n",
      "Log files/CCTV survey 117306.xlsx\n",
      "Log files/CCTV survey 118060.xlsx\n",
      "Log files/CCTV survey 118757.xlsx\n",
      "Log files/CCTV survey 118880.xlsx\n",
      "Log files/CCTV survey 119452.xlsx\n",
      "Log files/CCTV survey 120320.xlsx\n",
      "Log files/CCTV survey 120392.xlsx\n",
      "Log files/CCTV survey 120681.xlsx\n"
     ]
    }
   ],
   "source": [
    "list_dfs = []\n",
    "\n",
    "# ignore bad excels\n",
    "#ignore_excels = ['Log files/CCTV survey 115732.xlsx', 'Log files/CCTV survey 11424.xlsx',\n",
    "#                'Log files/CCTV survey 114458.xlsx', 'Log files/CCTV survey 118757.xlsx', 'Log files/CCTV survey 117306.xlsx']\n",
    "\n",
    "# allow good excels only\n",
    "#allowed_excels = ['Log files/CCTV survey 120320.xlsx', 'Log files/CCTV survey 115480.xlsx', 'Log files/CCTV survey 120392.xlsx']\n",
    "\n",
    "for file in glob.iglob('Log files/*.xlsx'):\n",
    "    if ('~' in file):\n",
    "        continue\n",
    "    print(file)\n",
    "    #if not (file in allowed_excels):\n",
    "    #    continue\n",
    "        \n",
    "    xls = xlrd.open_workbook(file, on_demand=True)\n",
    "    for sheet_name in xls.sheet_names():\n",
    "        df = pd.read_excel(file, sheet_name, engine='xlrd')\n",
    "        df['Sheet Name'] = sheet_name\n",
    "        df['Source File'] = file\n",
    "        df.applymap(lambda x: x.strip() if isinstance(x, str) else x)\n",
    "        list_dfs.append(df)\n",
    "    \n",
    "df = pd.concat(list_dfs, axis=0, sort=False)\n",
    "df.reset_index(inplace=True)"
   ]
  },
  {
   "cell_type": "markdown",
   "metadata": {},
   "source": [
    "Only some column are needed for processing."
   ]
  },
  {
   "cell_type": "code",
   "execution_count": 3,
   "metadata": {},
   "outputs": [],
   "source": [
    "# get valid columns and rename them\n",
    "\n",
    "df = df[['ns1:VideoRef', 'ns1:Distance', 'ns1:ContinuousDefect', 'ns1:Code', 'ns1:Remarks', 'Source File']]\n",
    "df.columns = ['Time', 'Distance', 'ContinuousDefect', 'DefectType', 'Remarks', 'Source File']"
   ]
  },
  {
   "cell_type": "code",
   "execution_count": 4,
   "metadata": {},
   "outputs": [
    {
     "data": {
      "text/html": [
       "<div>\n",
       "<style scoped>\n",
       "    .dataframe tbody tr th:only-of-type {\n",
       "        vertical-align: middle;\n",
       "    }\n",
       "\n",
       "    .dataframe tbody tr th {\n",
       "        vertical-align: top;\n",
       "    }\n",
       "\n",
       "    .dataframe thead th {\n",
       "        text-align: right;\n",
       "    }\n",
       "</style>\n",
       "<table border=\"1\" class=\"dataframe\">\n",
       "  <thead>\n",
       "    <tr style=\"text-align: right;\">\n",
       "      <th></th>\n",
       "      <th>Time</th>\n",
       "      <th>Distance</th>\n",
       "      <th>ContinuousDefect</th>\n",
       "      <th>DefectType</th>\n",
       "      <th>Remarks</th>\n",
       "      <th>Source File</th>\n",
       "    </tr>\n",
       "  </thead>\n",
       "  <tbody>\n",
       "    <tr>\n",
       "      <th>0</th>\n",
       "      <td>0:00:00</td>\n",
       "      <td>0.00</td>\n",
       "      <td>NaN</td>\n",
       "      <td>VVR</td>\n",
       "      <td>SZ00919605_SZ00919603_U_150915_1.mpg</td>\n",
       "      <td>Log files/CCTV SterteAvenue West.xlsx</td>\n",
       "    </tr>\n",
       "    <tr>\n",
       "      <th>1</th>\n",
       "      <td>0:00:00</td>\n",
       "      <td>0.00</td>\n",
       "      <td>NaN</td>\n",
       "      <td>MH</td>\n",
       "      <td>NaN</td>\n",
       "      <td>Log files/CCTV SterteAvenue West.xlsx</td>\n",
       "    </tr>\n",
       "    <tr>\n",
       "      <th>2</th>\n",
       "      <td>0:00:03</td>\n",
       "      <td>0.01</td>\n",
       "      <td>NaN</td>\n",
       "      <td>WL</td>\n",
       "      <td>NaN</td>\n",
       "      <td>Log files/CCTV SterteAvenue West.xlsx</td>\n",
       "    </tr>\n",
       "    <tr>\n",
       "      <th>3</th>\n",
       "      <td>0:00:30</td>\n",
       "      <td>0.98</td>\n",
       "      <td>NaN</td>\n",
       "      <td>DEE</td>\n",
       "      <td>NaN</td>\n",
       "      <td>Log files/CCTV SterteAvenue West.xlsx</td>\n",
       "    </tr>\n",
       "    <tr>\n",
       "      <th>4</th>\n",
       "      <td>0:00:51</td>\n",
       "      <td>2.38</td>\n",
       "      <td>S01</td>\n",
       "      <td>DEE</td>\n",
       "      <td>NaN</td>\n",
       "      <td>Log files/CCTV SterteAvenue West.xlsx</td>\n",
       "    </tr>\n",
       "  </tbody>\n",
       "</table>\n",
       "</div>"
      ],
      "text/plain": [
       "      Time  Distance ContinuousDefect DefectType  \\\n",
       "0  0:00:00      0.00              NaN        VVR   \n",
       "1  0:00:00      0.00              NaN         MH   \n",
       "2  0:00:03      0.01              NaN         WL   \n",
       "3  0:00:30      0.98              NaN        DEE   \n",
       "4  0:00:51      2.38              S01        DEE   \n",
       "\n",
       "                                Remarks                            Source File  \n",
       "0  SZ00919605_SZ00919603_U_150915_1.mpg  Log files/CCTV SterteAvenue West.xlsx  \n",
       "1                                   NaN  Log files/CCTV SterteAvenue West.xlsx  \n",
       "2                                   NaN  Log files/CCTV SterteAvenue West.xlsx  \n",
       "3                                   NaN  Log files/CCTV SterteAvenue West.xlsx  \n",
       "4                                   NaN  Log files/CCTV SterteAvenue West.xlsx  "
      ]
     },
     "execution_count": 4,
     "metadata": {},
     "output_type": "execute_result"
    }
   ],
   "source": [
    "df.head()"
   ]
  },
  {
   "cell_type": "markdown",
   "metadata": {},
   "source": [
    "# Append video file names to dataframe"
   ]
  },
  {
   "cell_type": "markdown",
   "metadata": {},
   "source": [
    "For every record, video file names are noted in column Remarks but only in 1st occurence. I need to extract those data and create new column with full path to source video file for every record."
   ]
  },
  {
   "cell_type": "code",
   "execution_count": 5,
   "metadata": {},
   "outputs": [],
   "source": [
    "video_files_dir = 'Video files/'"
   ]
  },
  {
   "cell_type": "code",
   "execution_count": 6,
   "metadata": {},
   "outputs": [],
   "source": [
    "# read video files names\n",
    "\n",
    "videos = []\n",
    "\n",
    "for entry in os.listdir(video_files_dir):\n",
    "    if os.path.isfile(os.path.join(video_files_dir, entry)):\n",
    "        videos.append(entry)"
   ]
  },
  {
   "cell_type": "code",
   "execution_count": 7,
   "metadata": {},
   "outputs": [
    {
     "data": {
      "text/plain": [
       "285"
      ]
     },
     "execution_count": 7,
     "metadata": {},
     "output_type": "execute_result"
    }
   ],
   "source": [
    "len(videos)"
   ]
  },
  {
   "cell_type": "code",
   "execution_count": 8,
   "metadata": {},
   "outputs": [],
   "source": [
    "# create column with video name path for every defect\n",
    "\n",
    "df['Video file'] = df['Remarks']\n",
    "\n",
    "not_found_videos = []\n",
    "\n",
    "for index in range(0, df.shape[0]):\n",
    "    video_file = df.at[index, 'Video file']\n",
    "    if video_file is np.NaN or not video_file.endswith('.mpg'):\n",
    "        video_file = df.at[index-1, 'Video file']\n",
    "        if not video_file.endswith('.mpg'):\n",
    "            raise Exception(\"Previous video info is not video file: \" + video_file)\n",
    "        else:\n",
    "            df.at[index, 'Video file'] = video_file\n",
    "    else:\n",
    "        if video_file in videos:\n",
    "            df.at[index, 'Video file'] = video_file\n",
    "        else:\n",
    "            not_found_videos.append(video_file)"
   ]
  },
  {
   "cell_type": "code",
   "execution_count": 9,
   "metadata": {},
   "outputs": [
    {
     "data": {
      "text/plain": [
       "103"
      ]
     },
     "execution_count": 9,
     "metadata": {},
     "output_type": "execute_result"
    }
   ],
   "source": [
    "len(not_found_videos)"
   ]
  },
  {
   "cell_type": "code",
   "execution_count": 10,
   "metadata": {},
   "outputs": [],
   "source": [
    "# remove defects with missing video file\n",
    "\n",
    "df = df[~df['Video file'].isin(not_found_videos)]\n",
    "df.reset_index(drop=True, inplace=True)"
   ]
  },
  {
   "cell_type": "code",
   "execution_count": 11,
   "metadata": {},
   "outputs": [
    {
     "data": {
      "text/plain": [
       "285"
      ]
     },
     "execution_count": 11,
     "metadata": {},
     "output_type": "execute_result"
    }
   ],
   "source": [
    "len(videos)"
   ]
  },
  {
   "cell_type": "code",
   "execution_count": 12,
   "metadata": {},
   "outputs": [],
   "source": [
    "# remove useless column\n",
    "\n",
    "df.drop('Remarks', axis=1, inplace=True)"
   ]
  },
  {
   "cell_type": "code",
   "execution_count": 13,
   "metadata": {},
   "outputs": [
    {
     "data": {
      "text/plain": [
       "4103"
      ]
     },
     "execution_count": 13,
     "metadata": {},
     "output_type": "execute_result"
    }
   ],
   "source": [
    "df.shape[0]"
   ]
  },
  {
   "cell_type": "code",
   "execution_count": 14,
   "metadata": {},
   "outputs": [
    {
     "data": {
      "text/html": [
       "<div>\n",
       "<style scoped>\n",
       "    .dataframe tbody tr th:only-of-type {\n",
       "        vertical-align: middle;\n",
       "    }\n",
       "\n",
       "    .dataframe tbody tr th {\n",
       "        vertical-align: top;\n",
       "    }\n",
       "\n",
       "    .dataframe thead th {\n",
       "        text-align: right;\n",
       "    }\n",
       "</style>\n",
       "<table border=\"1\" class=\"dataframe\">\n",
       "  <thead>\n",
       "    <tr style=\"text-align: right;\">\n",
       "      <th></th>\n",
       "      <th>Time</th>\n",
       "      <th>Distance</th>\n",
       "      <th>ContinuousDefect</th>\n",
       "      <th>DefectType</th>\n",
       "      <th>Source File</th>\n",
       "      <th>Video file</th>\n",
       "    </tr>\n",
       "  </thead>\n",
       "  <tbody>\n",
       "    <tr>\n",
       "      <th>0</th>\n",
       "      <td>0:00:00</td>\n",
       "      <td>0.00</td>\n",
       "      <td>NaN</td>\n",
       "      <td>VVR</td>\n",
       "      <td>Log files/CCTV survey 11065.xlsx</td>\n",
       "      <td>ST52223602_ST52222702_D_091012_1.mpg</td>\n",
       "    </tr>\n",
       "    <tr>\n",
       "      <th>1</th>\n",
       "      <td>0:00:00</td>\n",
       "      <td>0.00</td>\n",
       "      <td>NaN</td>\n",
       "      <td>MH</td>\n",
       "      <td>Log files/CCTV survey 11065.xlsx</td>\n",
       "      <td>ST52223602_ST52222702_D_091012_1.mpg</td>\n",
       "    </tr>\n",
       "    <tr>\n",
       "      <th>2</th>\n",
       "      <td>0:00:03</td>\n",
       "      <td>0.00</td>\n",
       "      <td>NaN</td>\n",
       "      <td>WL</td>\n",
       "      <td>Log files/CCTV survey 11065.xlsx</td>\n",
       "      <td>ST52223602_ST52222702_D_091012_1.mpg</td>\n",
       "    </tr>\n",
       "    <tr>\n",
       "      <th>3</th>\n",
       "      <td>0:00:19</td>\n",
       "      <td>0.00</td>\n",
       "      <td>S01</td>\n",
       "      <td>DEG</td>\n",
       "      <td>Log files/CCTV survey 11065.xlsx</td>\n",
       "      <td>ST52223602_ST52222702_D_091012_1.mpg</td>\n",
       "    </tr>\n",
       "    <tr>\n",
       "      <th>4</th>\n",
       "      <td>0:00:51</td>\n",
       "      <td>1.66</td>\n",
       "      <td>NaN</td>\n",
       "      <td>DER</td>\n",
       "      <td>Log files/CCTV survey 11065.xlsx</td>\n",
       "      <td>ST52223602_ST52222702_D_091012_1.mpg</td>\n",
       "    </tr>\n",
       "    <tr>\n",
       "      <th>5</th>\n",
       "      <td>0:01:12</td>\n",
       "      <td>3.63</td>\n",
       "      <td>S02</td>\n",
       "      <td>DER</td>\n",
       "      <td>Log files/CCTV survey 11065.xlsx</td>\n",
       "      <td>ST52223602_ST52222702_D_091012_1.mpg</td>\n",
       "    </tr>\n",
       "    <tr>\n",
       "      <th>6</th>\n",
       "      <td>0:01:19</td>\n",
       "      <td>3.63</td>\n",
       "      <td>NaN</td>\n",
       "      <td>WL</td>\n",
       "      <td>Log files/CCTV survey 11065.xlsx</td>\n",
       "      <td>ST52223602_ST52222702_D_091012_1.mpg</td>\n",
       "    </tr>\n",
       "    <tr>\n",
       "      <th>7</th>\n",
       "      <td>0:01:35</td>\n",
       "      <td>5.62</td>\n",
       "      <td>NaN</td>\n",
       "      <td>WL</td>\n",
       "      <td>Log files/CCTV survey 11065.xlsx</td>\n",
       "      <td>ST52223602_ST52222702_D_091012_1.mpg</td>\n",
       "    </tr>\n",
       "    <tr>\n",
       "      <th>8</th>\n",
       "      <td>0:01:44</td>\n",
       "      <td>6.22</td>\n",
       "      <td>F02</td>\n",
       "      <td>DER</td>\n",
       "      <td>Log files/CCTV survey 11065.xlsx</td>\n",
       "      <td>ST52223602_ST52222702_D_091012_1.mpg</td>\n",
       "    </tr>\n",
       "    <tr>\n",
       "      <th>9</th>\n",
       "      <td>0:03:08</td>\n",
       "      <td>8.56</td>\n",
       "      <td>NaN</td>\n",
       "      <td>H</td>\n",
       "      <td>Log files/CCTV survey 11065.xlsx</td>\n",
       "      <td>ST52223602_ST52222702_D_091012_1.mpg</td>\n",
       "    </tr>\n",
       "  </tbody>\n",
       "</table>\n",
       "</div>"
      ],
      "text/plain": [
       "      Time  Distance ContinuousDefect DefectType  \\\n",
       "0  0:00:00      0.00              NaN        VVR   \n",
       "1  0:00:00      0.00              NaN         MH   \n",
       "2  0:00:03      0.00              NaN         WL   \n",
       "3  0:00:19      0.00              S01        DEG   \n",
       "4  0:00:51      1.66              NaN        DER   \n",
       "5  0:01:12      3.63              S02        DER   \n",
       "6  0:01:19      3.63              NaN         WL   \n",
       "7  0:01:35      5.62              NaN         WL   \n",
       "8  0:01:44      6.22              F02        DER   \n",
       "9  0:03:08      8.56              NaN          H   \n",
       "\n",
       "                        Source File                            Video file  \n",
       "0  Log files/CCTV survey 11065.xlsx  ST52223602_ST52222702_D_091012_1.mpg  \n",
       "1  Log files/CCTV survey 11065.xlsx  ST52223602_ST52222702_D_091012_1.mpg  \n",
       "2  Log files/CCTV survey 11065.xlsx  ST52223602_ST52222702_D_091012_1.mpg  \n",
       "3  Log files/CCTV survey 11065.xlsx  ST52223602_ST52222702_D_091012_1.mpg  \n",
       "4  Log files/CCTV survey 11065.xlsx  ST52223602_ST52222702_D_091012_1.mpg  \n",
       "5  Log files/CCTV survey 11065.xlsx  ST52223602_ST52222702_D_091012_1.mpg  \n",
       "6  Log files/CCTV survey 11065.xlsx  ST52223602_ST52222702_D_091012_1.mpg  \n",
       "7  Log files/CCTV survey 11065.xlsx  ST52223602_ST52222702_D_091012_1.mpg  \n",
       "8  Log files/CCTV survey 11065.xlsx  ST52223602_ST52222702_D_091012_1.mpg  \n",
       "9  Log files/CCTV survey 11065.xlsx  ST52223602_ST52222702_D_091012_1.mpg  "
      ]
     },
     "execution_count": 14,
     "metadata": {},
     "output_type": "execute_result"
    }
   ],
   "source": [
    "df.head(10)"
   ]
  },
  {
   "cell_type": "markdown",
   "metadata": {},
   "source": [
    "# Fix invalid time in data"
   ]
  },
  {
   "cell_type": "markdown",
   "metadata": {},
   "source": [
    "Some data record contains 0 timetamps. I recognize these records as invalid. Get rid of them."
   ]
  },
  {
   "cell_type": "code",
   "execution_count": 15,
   "metadata": {},
   "outputs": [],
   "source": [
    "# NOTE: I cant remove those record because when recognizing healthy images, I have to check against those times.\n",
    "#df = df[df['Time'] != \"0:00:00\"]"
   ]
  },
  {
   "cell_type": "code",
   "execution_count": 16,
   "metadata": {},
   "outputs": [
    {
     "data": {
      "text/plain": [
       "4103"
      ]
     },
     "execution_count": 16,
     "metadata": {},
     "output_type": "execute_result"
    }
   ],
   "source": [
    "df.shape[0]"
   ]
  },
  {
   "cell_type": "code",
   "execution_count": 17,
   "metadata": {},
   "outputs": [
    {
     "data": {
      "text/html": [
       "<div>\n",
       "<style scoped>\n",
       "    .dataframe tbody tr th:only-of-type {\n",
       "        vertical-align: middle;\n",
       "    }\n",
       "\n",
       "    .dataframe tbody tr th {\n",
       "        vertical-align: top;\n",
       "    }\n",
       "\n",
       "    .dataframe thead th {\n",
       "        text-align: right;\n",
       "    }\n",
       "</style>\n",
       "<table border=\"1\" class=\"dataframe\">\n",
       "  <thead>\n",
       "    <tr style=\"text-align: right;\">\n",
       "      <th></th>\n",
       "      <th>Time</th>\n",
       "      <th>Distance</th>\n",
       "      <th>ContinuousDefect</th>\n",
       "      <th>DefectType</th>\n",
       "      <th>Source File</th>\n",
       "      <th>Video file</th>\n",
       "    </tr>\n",
       "  </thead>\n",
       "  <tbody>\n",
       "    <tr>\n",
       "      <th>0</th>\n",
       "      <td>0:00:00</td>\n",
       "      <td>0.00</td>\n",
       "      <td>NaN</td>\n",
       "      <td>VVR</td>\n",
       "      <td>Log files/CCTV survey 11065.xlsx</td>\n",
       "      <td>ST52223602_ST52222702_D_091012_1.mpg</td>\n",
       "    </tr>\n",
       "    <tr>\n",
       "      <th>1</th>\n",
       "      <td>0:00:00</td>\n",
       "      <td>0.00</td>\n",
       "      <td>NaN</td>\n",
       "      <td>MH</td>\n",
       "      <td>Log files/CCTV survey 11065.xlsx</td>\n",
       "      <td>ST52223602_ST52222702_D_091012_1.mpg</td>\n",
       "    </tr>\n",
       "    <tr>\n",
       "      <th>2</th>\n",
       "      <td>0:00:03</td>\n",
       "      <td>0.00</td>\n",
       "      <td>NaN</td>\n",
       "      <td>WL</td>\n",
       "      <td>Log files/CCTV survey 11065.xlsx</td>\n",
       "      <td>ST52223602_ST52222702_D_091012_1.mpg</td>\n",
       "    </tr>\n",
       "    <tr>\n",
       "      <th>3</th>\n",
       "      <td>0:00:19</td>\n",
       "      <td>0.00</td>\n",
       "      <td>S01</td>\n",
       "      <td>DEG</td>\n",
       "      <td>Log files/CCTV survey 11065.xlsx</td>\n",
       "      <td>ST52223602_ST52222702_D_091012_1.mpg</td>\n",
       "    </tr>\n",
       "    <tr>\n",
       "      <th>4</th>\n",
       "      <td>0:00:51</td>\n",
       "      <td>1.66</td>\n",
       "      <td>NaN</td>\n",
       "      <td>DER</td>\n",
       "      <td>Log files/CCTV survey 11065.xlsx</td>\n",
       "      <td>ST52223602_ST52222702_D_091012_1.mpg</td>\n",
       "    </tr>\n",
       "  </tbody>\n",
       "</table>\n",
       "</div>"
      ],
      "text/plain": [
       "      Time  Distance ContinuousDefect DefectType  \\\n",
       "0  0:00:00      0.00              NaN        VVR   \n",
       "1  0:00:00      0.00              NaN         MH   \n",
       "2  0:00:03      0.00              NaN         WL   \n",
       "3  0:00:19      0.00              S01        DEG   \n",
       "4  0:00:51      1.66              NaN        DER   \n",
       "\n",
       "                        Source File                            Video file  \n",
       "0  Log files/CCTV survey 11065.xlsx  ST52223602_ST52222702_D_091012_1.mpg  \n",
       "1  Log files/CCTV survey 11065.xlsx  ST52223602_ST52222702_D_091012_1.mpg  \n",
       "2  Log files/CCTV survey 11065.xlsx  ST52223602_ST52222702_D_091012_1.mpg  \n",
       "3  Log files/CCTV survey 11065.xlsx  ST52223602_ST52222702_D_091012_1.mpg  \n",
       "4  Log files/CCTV survey 11065.xlsx  ST52223602_ST52222702_D_091012_1.mpg  "
      ]
     },
     "execution_count": 17,
     "metadata": {},
     "output_type": "execute_result"
    }
   ],
   "source": [
    "df.head()"
   ]
  },
  {
   "cell_type": "markdown",
   "metadata": {},
   "source": [
    "# Extract images with defects"
   ]
  },
  {
   "cell_type": "markdown",
   "metadata": {},
   "source": [
    "For classification, it is necessary to extract images with defects and place them in corresponding folders."
   ]
  },
  {
   "cell_type": "code",
   "execution_count": 18,
   "metadata": {},
   "outputs": [],
   "source": [
    "df_continuous_defects = pd.DataFrame(columns=['StartTime', 'EndTime', 'DefectType', 'SourceFile', 'Video file'])"
   ]
  },
  {
   "cell_type": "code",
   "execution_count": 19,
   "metadata": {},
   "outputs": [],
   "source": [
    "video_root_dir = 'Video files/'\n",
    "defects_root_dir = 'defect_images/'"
   ]
  },
  {
   "cell_type": "code",
   "execution_count": 20,
   "metadata": {},
   "outputs": [],
   "source": [
    "df_group_videofile = df.groupby('Video file')"
   ]
  },
  {
   "cell_type": "markdown",
   "metadata": {},
   "source": [
    "In dataset, there are continous defects in continous frames. I need to create new dataframe with they starting and ending times."
   ]
  },
  {
   "cell_type": "code",
   "execution_count": 21,
   "metadata": {},
   "outputs": [
    {
     "name": "stderr",
     "output_type": "stream",
     "text": [
      "/usr/local/lib/python3.6/dist-packages/pandas/core/indexing.py:966: SettingWithCopyWarning: \n",
      "A value is trying to be set on a copy of a slice from a DataFrame.\n",
      "Try using .loc[row_indexer,col_indexer] = value instead\n",
      "\n",
      "See the caveats in the documentation: https://pandas.pydata.org/pandas-docs/stable/user_guide/indexing.html#returning-a-view-versus-a-copy\n",
      "  self.obj[item] = s\n"
     ]
    }
   ],
   "source": [
    "for name, group in df_group_videofile:\n",
    "    \n",
    "    video = cv2.VideoCapture(video_root_dir + name)\n",
    "    fps = video.get(cv2.CAP_PROP_FPS)\n",
    "    group = group[group['ContinuousDefect'].notnull()]\n",
    "    \n",
    "    for index, row in group.iterrows():\n",
    "        group.loc[index,'ContinuousDefect'] = group.loc[index,'ContinuousDefect'][1:]\n",
    "    \n",
    "    defect_group = group.groupby('ContinuousDefect', sort='Time')\n",
    "    \n",
    "    for t, group in defect_group:\n",
    "        \n",
    "        # check if pairing is missing\n",
    "        if len(group) == 1:\n",
    "            logging.warning(f'Continous defect without start/end {t} in video file {video_root_dir + name}')\n",
    "            continue\n",
    "        first = group.iloc[0]\n",
    "        second = group.iloc[1]\n",
    "        row = [first['Time'], second['Time'], first['DefectType'], first['Source File'], first['Video file']]\n",
    "        df_continuous_defects.loc[len(df_continuous_defects)] = row"
   ]
  },
  {
   "cell_type": "code",
   "execution_count": 22,
   "metadata": {},
   "outputs": [
    {
     "data": {
      "text/plain": [
       "279"
      ]
     },
     "execution_count": 22,
     "metadata": {},
     "output_type": "execute_result"
    }
   ],
   "source": [
    "len(df_continuous_defects)"
   ]
  },
  {
   "cell_type": "code",
   "execution_count": 23,
   "metadata": {},
   "outputs": [
    {
     "data": {
      "text/html": [
       "<div>\n",
       "<style scoped>\n",
       "    .dataframe tbody tr th:only-of-type {\n",
       "        vertical-align: middle;\n",
       "    }\n",
       "\n",
       "    .dataframe tbody tr th {\n",
       "        vertical-align: top;\n",
       "    }\n",
       "\n",
       "    .dataframe thead th {\n",
       "        text-align: right;\n",
       "    }\n",
       "</style>\n",
       "<table border=\"1\" class=\"dataframe\">\n",
       "  <thead>\n",
       "    <tr style=\"text-align: right;\">\n",
       "      <th></th>\n",
       "      <th>StartTime</th>\n",
       "      <th>EndTime</th>\n",
       "      <th>DefectType</th>\n",
       "      <th>SourceFile</th>\n",
       "      <th>Video file</th>\n",
       "    </tr>\n",
       "  </thead>\n",
       "  <tbody>\n",
       "    <tr>\n",
       "      <th>0</th>\n",
       "      <td>0:00:00</td>\n",
       "      <td>0:00:00</td>\n",
       "      <td>DEF</td>\n",
       "      <td>Log files/CCTV survey 115732.xlsx</td>\n",
       "      <td>001_SU14056002_SU14056001_14112013_0936.mpg</td>\n",
       "    </tr>\n",
       "    <tr>\n",
       "      <th>1</th>\n",
       "      <td>0:00:00</td>\n",
       "      <td>0:00:00</td>\n",
       "      <td>DEG</td>\n",
       "      <td>Log files/CCTV survey 115732.xlsx</td>\n",
       "      <td>001_SU14056002_SU14056001_14112013_0936.mpg</td>\n",
       "    </tr>\n",
       "    <tr>\n",
       "      <th>2</th>\n",
       "      <td>0:00:00</td>\n",
       "      <td>0:00:00</td>\n",
       "      <td>DES</td>\n",
       "      <td>Log files/CCTV survey 115732.xlsx</td>\n",
       "      <td>001_SU14056002_SU14056001_14112013_0936.mpg</td>\n",
       "    </tr>\n",
       "    <tr>\n",
       "      <th>3</th>\n",
       "      <td>0:00:00</td>\n",
       "      <td>0:00:00</td>\n",
       "      <td>DEG</td>\n",
       "      <td>Log files/CCTV survey 11424.xlsx</td>\n",
       "      <td>001_SZ01900402_SZ01900405_28022013_0101.mpg</td>\n",
       "    </tr>\n",
       "    <tr>\n",
       "      <th>4</th>\n",
       "      <td>0:00:00</td>\n",
       "      <td>0:00:00</td>\n",
       "      <td>DES</td>\n",
       "      <td>Log files/CCTV survey 115732.xlsx</td>\n",
       "      <td>002_SU14056001_SU14047901_14112013_0944.mpg</td>\n",
       "    </tr>\n",
       "  </tbody>\n",
       "</table>\n",
       "</div>"
      ],
      "text/plain": [
       "  StartTime  EndTime DefectType                         SourceFile  \\\n",
       "0   0:00:00  0:00:00        DEF  Log files/CCTV survey 115732.xlsx   \n",
       "1   0:00:00  0:00:00        DEG  Log files/CCTV survey 115732.xlsx   \n",
       "2   0:00:00  0:00:00        DES  Log files/CCTV survey 115732.xlsx   \n",
       "3   0:00:00  0:00:00        DEG   Log files/CCTV survey 11424.xlsx   \n",
       "4   0:00:00  0:00:00        DES  Log files/CCTV survey 115732.xlsx   \n",
       "\n",
       "                                    Video file  \n",
       "0  001_SU14056002_SU14056001_14112013_0936.mpg  \n",
       "1  001_SU14056002_SU14056001_14112013_0936.mpg  \n",
       "2  001_SU14056002_SU14056001_14112013_0936.mpg  \n",
       "3  001_SZ01900402_SZ01900405_28022013_0101.mpg  \n",
       "4  002_SU14056001_SU14047901_14112013_0944.mpg  "
      ]
     },
     "execution_count": 23,
     "metadata": {},
     "output_type": "execute_result"
    }
   ],
   "source": [
    "df_continuous_defects.head()"
   ]
  },
  {
   "cell_type": "code",
   "execution_count": 24,
   "metadata": {},
   "outputs": [],
   "source": [
    "defect_images = []"
   ]
  },
  {
   "cell_type": "markdown",
   "metadata": {},
   "source": [
    "From those continous defects, I extract only some frames."
   ]
  },
  {
   "cell_type": "code",
   "execution_count": 25,
   "metadata": {},
   "outputs": [],
   "source": [
    "def time_to_sec(time):\n",
    "    return sum(x * int(t) for x, t in zip([3600, 60, 1], time.split(\":\")))"
   ]
  },
  {
   "cell_type": "code",
   "execution_count": 26,
   "metadata": {},
   "outputs": [],
   "source": [
    "period_of_extraction_in_sec = 5\n",
    "\n",
    "df_group_continuous_defects_video_file = df_continuous_defects.groupby('Video file')\n",
    "\n",
    "for name, group in df_group_continuous_defects_video_file:\n",
    "    video = cv2.VideoCapture(video_root_dir + name)\n",
    "    fps = video.get(cv2.CAP_PROP_FPS)\n",
    "    for index, row in group[['StartTime', 'EndTime', 'DefectType']].iterrows():\n",
    "        seconds_start = time_to_sec(row['StartTime'])\n",
    "        seconds_end = time_to_sec(row['EndTime'])\n",
    "        \n",
    "        if seconds_start < 25:\n",
    "            seconds_start = 25\n",
    "        \n",
    "        for seconds in range(seconds_start, seconds_end, period_of_extraction_in_sec):\n",
    "            video.set(cv2.CAP_PROP_POS_FRAMES, seconds * fps);\n",
    "            ret, frame = video.read()\n",
    "            if not ret:\n",
    "                logging.warning(f'Unexpected error at capturing image at {seconds} seconds in video file {video_root_dir + name}')\n",
    "                continue\n",
    "            defect_dir = defects_root_dir + row['DefectType']\n",
    "            if not os.path.exists(defect_dir):\n",
    "                os.makedirs(defect_dir)\n",
    "            out_name = defect_dir + os.sep + name + '_continous_' + str(seconds) + '.jpg'\n",
    "            defect_images.append(out_name)\n",
    "            cv2.imwrite(out_name, frame)\n",
    "    video.release()"
   ]
  },
  {
   "cell_type": "code",
   "execution_count": 27,
   "metadata": {},
   "outputs": [
    {
     "data": {
      "text/plain": [
       "13119"
      ]
     },
     "execution_count": 27,
     "metadata": {},
     "output_type": "execute_result"
    }
   ],
   "source": [
    "len(defect_images)"
   ]
  },
  {
   "cell_type": "markdown",
   "metadata": {},
   "source": [
    "Extract noncontinous defects."
   ]
  },
  {
   "cell_type": "code",
   "execution_count": 28,
   "metadata": {},
   "outputs": [
    {
     "name": "stderr",
     "output_type": "stream",
     "text": [
      "WARNING:root:Unexpected error at capturing image at 232 seconds in video file Video files/069_SZ01902705_SZ01902703_08032013_0004.mpg\n",
      "WARNING:root:Unexpected error at capturing image at 277 seconds in video file Video files/069_SZ01902705_SZ01902703_08032013_0004.mpg\n",
      "WARNING:root:Unexpected error at capturing image at 298 seconds in video file Video files/069_SZ01902705_SZ01902703_08032013_0004.mpg\n",
      "WARNING:root:Unexpected error at capturing image at 343 seconds in video file Video files/069_SZ01902705_SZ01902703_08032013_0004.mpg\n",
      "WARNING:root:Unexpected error at capturing image at 463 seconds in video file Video files/069_SZ01902705_SZ01902703_08032013_0004.mpg\n",
      "WARNING:root:Unexpected error at capturing image at 536 seconds in video file Video files/069_SZ01902705_SZ01902703_08032013_0004.mpg\n",
      "WARNING:root:Unexpected error at capturing image at 579 seconds in video file Video files/069_SZ01902705_SZ01902703_08032013_0004.mpg\n",
      "WARNING:root:Unexpected error at capturing image at 634 seconds in video file Video files/069_SZ01902705_SZ01902703_08032013_0004.mpg\n",
      "WARNING:root:Unexpected error at capturing image at 648 seconds in video file Video files/069_SZ01902705_SZ01902703_08032013_0004.mpg\n",
      "WARNING:root:Unexpected error at capturing image at 668 seconds in video file Video files/069_SZ01902705_SZ01902703_08032013_0004.mpg\n",
      "WARNING:root:Unexpected error at capturing image at 723 seconds in video file Video files/069_SZ01902705_SZ01902703_08032013_0004.mpg\n",
      "WARNING:root:Unexpected error at capturing image at 755 seconds in video file Video files/069_SZ01902705_SZ01902703_08032013_0004.mpg\n",
      "WARNING:root:Unexpected error at capturing image at 789 seconds in video file Video files/069_SZ01902705_SZ01902703_08032013_0004.mpg\n",
      "WARNING:root:Unexpected error at capturing image at 825 seconds in video file Video files/069_SZ01902705_SZ01902703_08032013_0004.mpg\n",
      "WARNING:root:Unexpected error at capturing image at 975 seconds in video file Video files/069_SZ01902705_SZ01902703_08032013_0004.mpg\n",
      "WARNING:root:Unexpected error at capturing image at 196 seconds in video file Video files/069_SZ01902705_SZ01902703_08032013_0004.mpg\n",
      "WARNING:root:Unexpected error at capturing image at 294 seconds in video file Video files/069_SZ01902705_SZ01902703_08032013_0004.mpg\n",
      "WARNING:root:Unexpected error at capturing image at 374 seconds in video file Video files/069_SZ01902705_SZ01902703_08032013_0004.mpg\n",
      "WARNING:root:Unexpected error at capturing image at 405 seconds in video file Video files/069_SZ01902705_SZ01902703_08032013_0004.mpg\n",
      "WARNING:root:Unexpected error at capturing image at 434 seconds in video file Video files/069_SZ01902705_SZ01902703_08032013_0004.mpg\n",
      "WARNING:root:Unexpected error at capturing image at 451 seconds in video file Video files/069_SZ01902705_SZ01902703_08032013_0004.mpg\n",
      "WARNING:root:Unexpected error at capturing image at 516 seconds in video file Video files/069_SZ01902705_SZ01902703_08032013_0004.mpg\n",
      "WARNING:root:Unexpected error at capturing image at 542 seconds in video file Video files/069_SZ01902705_SZ01902703_08032013_0004.mpg\n",
      "WARNING:root:Unexpected error at capturing image at 606 seconds in video file Video files/069_SZ01902705_SZ01902703_08032013_0004.mpg\n",
      "WARNING:root:Unexpected error at capturing image at 722 seconds in video file Video files/069_SZ01902705_SZ01902703_08032013_0004.mpg\n",
      "WARNING:root:Unexpected error at capturing image at 181 seconds in video file Video files/069_SZ01902705_SZ01902703_08032013_0004.mpg\n",
      "WARNING:root:Unexpected error at capturing image at 220 seconds in video file Video files/069_SZ01902705_SZ01902703_08032013_0004.mpg\n",
      "WARNING:root:Unexpected error at capturing image at 248 seconds in video file Video files/069_SZ01902705_SZ01902703_08032013_0004.mpg\n",
      "WARNING:root:Unexpected error at capturing image at 276 seconds in video file Video files/069_SZ01902705_SZ01902703_08032013_0004.mpg\n",
      "WARNING:root:Unexpected error at capturing image at 321 seconds in video file Video files/069_SZ01902705_SZ01902703_08032013_0004.mpg\n",
      "WARNING:root:Unexpected error at capturing image at 383 seconds in video file Video files/069_SZ01902705_SZ01902703_08032013_0004.mpg\n",
      "WARNING:root:Unexpected error at capturing image at 433 seconds in video file Video files/069_SZ01902705_SZ01902703_08032013_0004.mpg\n",
      "WARNING:root:Unexpected error at capturing image at 488 seconds in video file Video files/069_SZ01902705_SZ01902703_08032013_0004.mpg\n",
      "WARNING:root:Unexpected error at capturing image at 512 seconds in video file Video files/069_SZ01902705_SZ01902703_08032013_0004.mpg\n",
      "WARNING:root:Unexpected error at capturing image at 547 seconds in video file Video files/069_SZ01902705_SZ01902703_08032013_0004.mpg\n",
      "WARNING:root:Unexpected error at capturing image at 594 seconds in video file Video files/069_SZ01902705_SZ01902703_08032013_0004.mpg\n",
      "WARNING:root:Unexpected error at capturing image at 627 seconds in video file Video files/069_SZ01902705_SZ01902703_08032013_0004.mpg\n",
      "WARNING:root:Unexpected error at capturing image at 685 seconds in video file Video files/069_SZ01902705_SZ01902703_08032013_0004.mpg\n",
      "WARNING:root:Unexpected error at capturing image at 813 seconds in video file Video files/069_SZ01902705_SZ01902703_08032013_0004.mpg\n",
      "WARNING:root:Unexpected error at capturing image at 106 seconds in video file Video files/069_SZ01902705_SZ01902703_08032013_0004.mpg\n",
      "WARNING:root:Unexpected error at capturing image at 148 seconds in video file Video files/069_SZ01902705_SZ01902703_08032013_0004.mpg\n",
      "WARNING:root:Unexpected error at capturing image at 236 seconds in video file Video files/069_SZ01902705_SZ01902703_08032013_0004.mpg\n",
      "WARNING:root:Unexpected error at capturing image at 295 seconds in video file Video files/069_SZ01902705_SZ01902703_08032013_0004.mpg\n",
      "WARNING:root:Unexpected error at capturing image at 335 seconds in video file Video files/069_SZ01902705_SZ01902703_08032013_0004.mpg\n",
      "WARNING:root:Unexpected error at capturing image at 378 seconds in video file Video files/069_SZ01902705_SZ01902703_08032013_0004.mpg\n",
      "WARNING:root:Unexpected error at capturing image at 396 seconds in video file Video files/069_SZ01902705_SZ01902703_08032013_0004.mpg\n",
      "WARNING:root:Unexpected error at capturing image at 429 seconds in video file Video files/069_SZ01902705_SZ01902703_08032013_0004.mpg\n",
      "WARNING:root:Unexpected error at capturing image at 544 seconds in video file Video files/069_SZ01902705_SZ01902703_08032013_0004.mpg\n"
     ]
    }
   ],
   "source": [
    "for name, group in df_group_videofile:\n",
    "    video = cv2.VideoCapture(video_root_dir + name)\n",
    "    fps = video.get(cv2.CAP_PROP_FPS)\n",
    "    for index, row in group[['Time', 'ContinuousDefect', 'DefectType']].iterrows():\n",
    "        if row['ContinuousDefect'] is not np.NaN:\n",
    "            continue\n",
    "        seconds = time_to_sec(row['Time'])\n",
    "        \n",
    "        if seconds < 20:\n",
    "            continue\n",
    "        \n",
    "        video.set(cv2.CAP_PROP_POS_FRAMES, seconds * fps);\n",
    "        ret, frame = video.read()\n",
    "        \n",
    "        # ignore invalid images\n",
    "        if not ret:\n",
    "            logging.warning(f'Unexpected error at capturing image at {seconds} seconds in video file {video_root_dir + name}')\n",
    "            continue\n",
    "        defect_dir = defects_root_dir\n",
    "        if not os.path.exists(defect_dir):\n",
    "            os.makedirs(defect_dir)\n",
    "        out_name = defect_dir + os.sep + name + '_' + row['Time'] + '.jpg'\n",
    "        defect_images.append(out_name)\n",
    "        cv2.imwrite(out_name, frame)\n",
    "        break\n",
    "    video.release()\n"
   ]
  },
  {
   "cell_type": "code",
   "execution_count": 29,
   "metadata": {},
   "outputs": [
    {
     "data": {
      "text/plain": [
       "13311"
      ]
     },
     "execution_count": 29,
     "metadata": {},
     "output_type": "execute_result"
    }
   ],
   "source": [
    "len(defect_images)"
   ]
  },
  {
   "cell_type": "code",
   "execution_count": 30,
   "metadata": {},
   "outputs": [],
   "source": [
    "del defect_images"
   ]
  },
  {
   "cell_type": "markdown",
   "metadata": {},
   "source": [
    "# Extraction of healthy images"
   ]
  },
  {
   "cell_type": "markdown",
   "metadata": {},
   "source": [
    "Extraction of healthy images extract all images except those in restricted times where defects appear."
   ]
  },
  {
   "cell_type": "code",
   "execution_count": 31,
   "metadata": {},
   "outputs": [],
   "source": [
    "healthy_images_root_dir = 'healthy_images'\n",
    "period_of_extraction_in_sec = 1"
   ]
  },
  {
   "cell_type": "code",
   "execution_count": 32,
   "metadata": {},
   "outputs": [],
   "source": [
    "# extraction times bounds\n",
    "\n",
    "excluded_seconds_before_after_continous = 5\n",
    "excluded_seconds_before_after_noncontinous = 45"
   ]
  },
  {
   "cell_type": "code",
   "execution_count": 33,
   "metadata": {
    "scrolled": false
   },
   "outputs": [],
   "source": [
    "healthy_images = []\n",
    "\n",
    "for name, group in df_group_videofile:\n",
    "    video = cv2.VideoCapture(video_root_dir + name)\n",
    "    fps = video.get(cv2.CAP_PROP_FPS)\n",
    "    invalid_times = []\n",
    "    invalid_sequences = []\n",
    "    \n",
    "    # create invalid intervals\n",
    "    for index, row in group[['Time', 'DefectType']].iterrows():\n",
    "        seconds = time_to_sec(row['Time'])\n",
    "        invalid_times.append(seconds)\n",
    "        \n",
    "    if (name in df_group_continuous_defects_video_file.groups.keys()):\n",
    "        for i in df_group_continuous_defects_video_file.get_group(name).iterrows():\n",
    "            invalid_sequences.append([time_to_sec(i[1]['StartTime']), time_to_sec(i[1]['EndTime'])])  \n",
    "    \n",
    "    video_length = int(int(video.get(cv2.CAP_PROP_FRAME_COUNT))/fps)\n",
    "    \n",
    "    # first 25 seconds are info about record\n",
    "    invalid_sequences.append([0, 25])\n",
    "    \n",
    "    invalid_times.sort()\n",
    "    \n",
    "    # ignore everyting from last defect\n",
    "    invalid_sequences.append([invalid_times[len(invalid_times) - 1], video_length])\n",
    "    \n",
    "    healthy_sec = []\n",
    "    \n",
    "    sec = .5\n",
    "    while sec < video_length:\n",
    "        fail = False\n",
    "        \n",
    "        for time in invalid_times:\n",
    "            if (abs(time - sec) < excluded_seconds_before_after_noncontinous):\n",
    "                fail = True\n",
    "                break\n",
    "                \n",
    "        for t in invalid_sequences:\n",
    "            if (sec > t[0] - excluded_seconds_before_after_continous and sec < t[1] + excluded_seconds_before_after_continous):\n",
    "                fail = True\n",
    "                break\n",
    "        \n",
    "        if not fail:\n",
    "            video.set(cv2.CAP_PROP_POS_FRAMES, sec * fps);\n",
    "            ret, frame = video.read()\n",
    "            if not ret:\n",
    "                logging.warning(f'Unexpected error at capturing image at {seconds} seconds in video file {video_root_dir + name}')\n",
    "                continue\n",
    "            if not os.path.exists(healthy_images_root_dir):\n",
    "                os.makedirs(healthy_images_root_dir)\n",
    "            out_name = healthy_images_root_dir + '/' + name + '_' + str(sec) + '.jpg'\n",
    "            healthy_images.append(out_name)\n",
    "            cv2.imwrite(out_name, frame)\n",
    "            healthy_sec.append(sec)\n",
    "        sec += 1.4\n",
    "    video.release()"
   ]
  },
  {
   "cell_type": "code",
   "execution_count": 34,
   "metadata": {},
   "outputs": [
    {
     "data": {
      "text/plain": [
       "13157"
      ]
     },
     "execution_count": 34,
     "metadata": {},
     "output_type": "execute_result"
    }
   ],
   "source": [
    "len(healthy_images)"
   ]
  },
  {
   "cell_type": "code",
   "execution_count": null,
   "metadata": {},
   "outputs": [],
   "source": []
  }
 ],
 "metadata": {
  "kernelspec": {
   "display_name": "Python 3",
   "language": "python",
   "name": "python3"
  },
  "language_info": {
   "codemirror_mode": {
    "name": "ipython",
    "version": 3
   },
   "file_extension": ".py",
   "mimetype": "text/x-python",
   "name": "python",
   "nbconvert_exporter": "python",
   "pygments_lexer": "ipython3",
   "version": "3.8.2"
  }
 },
 "nbformat": 4,
 "nbformat_minor": 2
}
