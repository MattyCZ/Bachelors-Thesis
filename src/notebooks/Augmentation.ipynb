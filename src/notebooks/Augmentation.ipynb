{
 "cells": [
  {
   "cell_type": "code",
   "execution_count": 10,
   "metadata": {},
   "outputs": [],
   "source": [
    "import os\n",
    "from Augmentor import Pipeline\n",
    "from shutil import copyfile\n",
    "from tqdm import tqdm\n",
    "import pathlib\n",
    "import time\n",
    "\n",
    "DATASET_SOURCE = 'train'\n",
    "NEW_IMAGES = 500"
   ]
  },
  {
   "cell_type": "code",
   "execution_count": 11,
   "metadata": {},
   "outputs": [
    {
     "name": "stdout",
     "output_type": "stream",
     "text": [
      "{'CL': 26, 'CUW': 99, 'CUZ': 117, 'DEE': 308, 'DEF': 170, 'DEG': 5082, 'DER': 350, 'DES': 82, 'FL': 84, 'FM': 16, 'healthy_images': 7930, 'REM': 33, 'RF': 107, 'RM': 21, 'RPL': 3, 'SCP': 1074}\n"
     ]
    }
   ],
   "source": [
    "IMAGES_FOLDER = 'Images'\n",
    "nr_images = {}\n",
    "\n",
    "for class_type in os.listdir(os.path.join(IMAGES_FOLDER, 'test')):\n",
    "    nr_images[class_type] = 0\n",
    "\n",
    "for folder in os.listdir(IMAGES_FOLDER):\n",
    "    if folder != DATASET_SOURCE:\n",
    "        continue\n",
    "    for fold in os.listdir(os.path.join(IMAGES_FOLDER, folder)):\n",
    "        nr_images[fold] += len(os.listdir(os.path.join(IMAGES_FOLDER, folder, fold)))\n",
    "\n",
    "print(nr_images)"
   ]
  },
  {
   "cell_type": "code",
   "execution_count": 12,
   "metadata": {},
   "outputs": [
    {
     "data": {
      "text/plain": [
       "{'CL',\n",
       " 'CUW',\n",
       " 'CUZ',\n",
       " 'DEE',\n",
       " 'DEF',\n",
       " 'DER',\n",
       " 'DES',\n",
       " 'FL',\n",
       " 'FM',\n",
       " 'REM',\n",
       " 'RF',\n",
       " 'RM',\n",
       " 'RPL'}"
      ]
     },
     "execution_count": 12,
     "metadata": {},
     "output_type": "execute_result"
    }
   ],
   "source": [
    "class_to_augment = set()\n",
    "for defect_class in nr_images.keys():\n",
    "    if nr_images[defect_class] > NEW_IMAGES:\n",
    "        continue\n",
    "    class_to_augment.add(defect_class)\n",
    "class_to_augment"
   ]
  },
  {
   "cell_type": "code",
   "execution_count": 13,
   "metadata": {},
   "outputs": [],
   "source": [
    "augmentable_files = {}\n",
    "for dfct_class in class_to_augment:\n",
    "    augmentable_files[dfct_class] = []\n",
    "\n",
    "for dataset_type in os.listdir(IMAGES_FOLDER):\n",
    "    if dataset_type != DATASET_SOURCE:\n",
    "        continue\n",
    "    for class_type in class_to_augment:\n",
    "        for image in os.listdir(os.path.join(IMAGES_FOLDER, dataset_type, class_type)):\n",
    "            augmentable_files[class_type].append(os.path.join(IMAGES_FOLDER, dataset_type, class_type, image))"
   ]
  },
  {
   "cell_type": "code",
   "execution_count": 14,
   "metadata": {},
   "outputs": [],
   "source": [
    "!rm -rf 'TMP'"
   ]
  },
  {
   "cell_type": "code",
   "execution_count": 15,
   "metadata": {},
   "outputs": [
    {
     "name": "stderr",
     "output_type": "stream",
     "text": [
      "CUZ : 100%|██████████| 117/117 [00:02<00:00, 53.22it/s]\n",
      "RPL : 100%|██████████| 3/3 [00:00<00:00, 62.09it/s]\n",
      "FL  : 100%|██████████| 84/84 [00:01<00:00, 56.65it/s]\n",
      "DEE : 100%|██████████| 308/308 [00:05<00:00, 52.47it/s]\n",
      "RM  : 100%|██████████| 21/21 [00:00<00:00, 62.90it/s]\n",
      "DES : 100%|██████████| 82/82 [00:01<00:00, 58.90it/s]\n",
      "DEF : 100%|██████████| 170/170 [00:03<00:00, 51.78it/s]\n",
      "CL  : 100%|██████████| 26/26 [00:00<00:00, 54.74it/s]\n",
      "FM  : 100%|██████████| 16/16 [00:00<00:00, 62.87it/s]\n",
      "CUW : 100%|██████████| 99/99 [00:01<00:00, 50.06it/s]\n",
      "DER : 100%|██████████| 350/350 [00:06<00:00, 55.78it/s]\n",
      "RF  : 100%|██████████| 107/107 [00:01<00:00, 54.23it/s]\n",
      "REM : 100%|██████████| 33/33 [00:00<00:00, 52.42it/s]\n"
     ]
    }
   ],
   "source": [
    "for key in augmentable_files.keys():\n",
    "    pathlib.Path(os.path.join('TMP', key)).mkdir(parents=True, exist_ok=True)\n",
    "    for f in tqdm(augmentable_files[key], desc=f'{key}{\"\".join(\" \" for i in range(4-len(key)))}'):\n",
    "        copyfile(f, os.path.join('TMP', key, f.split(os.sep)[-1]))"
   ]
  },
  {
   "cell_type": "code",
   "execution_count": 16,
   "metadata": {},
   "outputs": [
    {
     "name": "stdout",
     "output_type": "stream",
     "text": [
      "Initialised with 117 image(s) found.\n",
      "Output directory set to TMP/CUZ/output."
     ]
    },
    {
     "name": "stderr",
     "output_type": "stream",
     "text": [
      "Processing <PIL.Image.Image image mode=RGB size=352x288 at 0x7F59086C8B70>: 100%|██████████| 500/500 [00:11<00:00, 44.23 Samples/s]                  \n"
     ]
    },
    {
     "name": "stdout",
     "output_type": "stream",
     "text": [
      "Initialised with 3 image(s) found.\n",
      "Output directory set to TMP/RPL/output."
     ]
    },
    {
     "name": "stderr",
     "output_type": "stream",
     "text": [
      "Processing <PIL.Image.Image image mode=RGB size=352x288 at 0x7F59086583C8>: 100%|██████████| 500/500 [00:12<00:00, 39.76 Samples/s]                  \n"
     ]
    },
    {
     "name": "stdout",
     "output_type": "stream",
     "text": [
      "Initialised with 84 image(s) found.\n",
      "Output directory set to TMP/FL/output."
     ]
    },
    {
     "name": "stderr",
     "output_type": "stream",
     "text": [
      "Processing <PIL.Image.Image image mode=RGB size=352x288 at 0x7F5910901F60>: 100%|██████████| 500/500 [00:12<00:00, 39.19 Samples/s]                   \n"
     ]
    },
    {
     "name": "stdout",
     "output_type": "stream",
     "text": [
      "Initialised with 308 image(s) found.\n",
      "Output directory set to TMP/DEE/output."
     ]
    },
    {
     "name": "stderr",
     "output_type": "stream",
     "text": [
      "Processing <PIL.Image.Image image mode=RGB size=352x288 at 0x7F59086DFA58>: 100%|██████████| 500/500 [00:12<00:00, 41.39 Samples/s]                  \n"
     ]
    },
    {
     "name": "stdout",
     "output_type": "stream",
     "text": [
      "Initialised with 21 image(s) found.\n",
      "Output directory set to TMP/RM/output."
     ]
    },
    {
     "name": "stderr",
     "output_type": "stream",
     "text": [
      "Processing <PIL.Image.Image image mode=RGB size=352x288 at 0x7F5908F3C518>: 100%|██████████| 500/500 [00:11<00:00, 42.32 Samples/s]                  \n"
     ]
    },
    {
     "name": "stdout",
     "output_type": "stream",
     "text": [
      "Initialised with 82 image(s) found.\n",
      "Output directory set to TMP/DES/output."
     ]
    },
    {
     "name": "stderr",
     "output_type": "stream",
     "text": [
      "Processing <PIL.Image.Image image mode=RGB size=352x288 at 0x7F59086F24E0>: 100%|██████████| 500/500 [00:11<00:00, 43.34 Samples/s]                   \n"
     ]
    },
    {
     "name": "stdout",
     "output_type": "stream",
     "text": [
      "Initialised with 170 image(s) found.\n",
      "Output directory set to TMP/DEF/output."
     ]
    },
    {
     "name": "stderr",
     "output_type": "stream",
     "text": [
      "Processing <PIL.Image.Image image mode=RGB size=352x288 at 0x7F59086D3A90>: 100%|██████████| 500/500 [00:10<00:00, 48.87 Samples/s]                  \n"
     ]
    },
    {
     "name": "stdout",
     "output_type": "stream",
     "text": [
      "Initialised with 26 image(s) found.\n",
      "Output directory set to TMP/CL/output."
     ]
    },
    {
     "name": "stderr",
     "output_type": "stream",
     "text": [
      "Processing <PIL.Image.Image image mode=RGB size=352x288 at 0x7F590BFED978>: 100%|██████████| 500/500 [00:08<00:00, 56.22 Samples/s]                  \n"
     ]
    },
    {
     "name": "stdout",
     "output_type": "stream",
     "text": [
      "Initialised with 16 image(s) found.\n",
      "Output directory set to TMP/FM/output."
     ]
    },
    {
     "name": "stderr",
     "output_type": "stream",
     "text": [
      "Processing <PIL.Image.Image image mode=RGB size=352x288 at 0x7F5910051D68>: 100%|██████████| 500/500 [00:13<00:00, 36.44 Samples/s]                  \n"
     ]
    },
    {
     "name": "stdout",
     "output_type": "stream",
     "text": [
      "Initialised with 99 image(s) found.\n",
      "Output directory set to TMP/CUW/output."
     ]
    },
    {
     "name": "stderr",
     "output_type": "stream",
     "text": [
      "Processing <PIL.Image.Image image mode=RGB size=352x288 at 0x7F59086194A8>: 100%|██████████| 500/500 [00:13<00:00, 35.73 Samples/s]                   \n"
     ]
    },
    {
     "name": "stdout",
     "output_type": "stream",
     "text": [
      "Initialised with 350 image(s) found.\n",
      "Output directory set to TMP/DER/output."
     ]
    },
    {
     "name": "stderr",
     "output_type": "stream",
     "text": [
      "Processing <PIL.Image.Image image mode=RGB size=352x288 at 0x7F590862BE80>: 100%|██████████| 500/500 [00:12<00:00, 40.89 Samples/s]                  \n"
     ]
    },
    {
     "name": "stdout",
     "output_type": "stream",
     "text": [
      "Initialised with 107 image(s) found.\n",
      "Output directory set to TMP/RF/output."
     ]
    },
    {
     "name": "stderr",
     "output_type": "stream",
     "text": [
      "Processing <PIL.Image.Image image mode=RGB size=352x288 at 0x7F5908F34780>: 100%|██████████| 500/500 [00:11<00:00, 43.19 Samples/s]                  \n"
     ]
    },
    {
     "name": "stdout",
     "output_type": "stream",
     "text": [
      "Initialised with 33 image(s) found.\n",
      "Output directory set to TMP/REM/output."
     ]
    },
    {
     "name": "stderr",
     "output_type": "stream",
     "text": [
      "Processing <PIL.Image.Image image mode=RGB size=352x288 at 0x7F5908F440B8>: 100%|██████████| 500/500 [00:10<00:00, 46.75 Samples/s]                  \n"
     ]
    }
   ],
   "source": [
    "for defect_class in class_to_augment: \n",
    "    p = Pipeline(os.path.join('TMP', defect_class))\n",
    "    p.skew(probability=.2)\n",
    "    p.flip_left_right(probability=.8)\n",
    "    p.rotate(probability=.3, max_left_rotation=5, max_right_rotation=5)\n",
    "    p.shear(probability=.6, max_shear_left=7, max_shear_right=7)\n",
    "    time.sleep(.4)\n",
    "    p.sample(NEW_IMAGES)"
   ]
  },
  {
   "cell_type": "code",
   "execution_count": 17,
   "metadata": {},
   "outputs": [
    {
     "name": "stderr",
     "output_type": "stream",
     "text": [
      "CUZ : 100%|██████████| 500/500 [00:05<00:00, 87.20it/s] \n",
      "RPL : 100%|██████████| 500/500 [00:04<00:00, 102.08it/s]\n",
      "FL  : 100%|██████████| 500/500 [00:05<00:00, 91.81it/s] \n",
      "DEE : 100%|██████████| 500/500 [00:04<00:00, 100.92it/s]\n",
      "RM  : 100%|██████████| 500/500 [00:05<00:00, 93.80it/s] \n",
      "DES : 100%|██████████| 500/500 [00:04<00:00, 109.03it/s]\n",
      "DEF : 100%|██████████| 500/500 [00:04<00:00, 100.94it/s]\n",
      "CL  : 100%|██████████| 500/500 [00:05<00:00, 97.22it/s] \n",
      "FM  : 100%|██████████| 500/500 [00:04<00:00, 107.00it/s]\n",
      "CUW : 100%|██████████| 500/500 [00:04<00:00, 109.11it/s]\n",
      "DER : 100%|██████████| 500/500 [00:05<00:00, 99.26it/s] \n",
      "RF  : 100%|██████████| 500/500 [00:04<00:00, 109.29it/s]\n",
      "REM : 100%|██████████| 500/500 [00:04<00:00, 105.09it/s]\n"
     ]
    }
   ],
   "source": [
    "for key in class_to_augment: \n",
    "    for f in tqdm(os.listdir(os.path.join('TMP', key, 'output')), desc=f'{key}{\"\".join(\" \" for i in range(4-len(key)))}'):\n",
    "        copyfile(os.path.join('TMP', key, 'output', f), os.path.join(IMAGES_FOLDER, DATASET_SOURCE, key, f))\n"
   ]
  },
  {
   "cell_type": "code",
   "execution_count": null,
   "metadata": {},
   "outputs": [],
   "source": []
  }
 ],
 "metadata": {
  "kernelspec": {
   "display_name": "Python 3",
   "language": "python",
   "name": "python3"
  },
  "language_info": {
   "codemirror_mode": {
    "name": "ipython",
    "version": 3
   },
   "file_extension": ".py",
   "mimetype": "text/x-python",
   "name": "python",
   "nbconvert_exporter": "python",
   "pygments_lexer": "ipython3",
   "version": "3.8.2"
  }
 },
 "nbformat": 4,
 "nbformat_minor": 4
}
