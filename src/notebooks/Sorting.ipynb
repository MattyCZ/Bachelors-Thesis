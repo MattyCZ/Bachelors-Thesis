{
 "cells": [
  {
   "cell_type": "code",
   "execution_count": 1,
   "metadata": {},
   "outputs": [],
   "source": [
    "import pandas as pd\n",
    "from tqdm import tqdm\n",
    "import os\n",
    "from shutil import copyfile\n",
    "from sklearn.model_selection import train_test_split"
   ]
  },
  {
   "cell_type": "code",
   "execution_count": 2,
   "metadata": {},
   "outputs": [],
   "source": [
    "IMAGES_PATH = 'defect_images'"
   ]
  },
  {
   "cell_type": "code",
   "execution_count": 5,
   "metadata": {},
   "outputs": [
    {
     "data": {
      "text/plain": [
       "26145"
      ]
     },
     "execution_count": 5,
     "metadata": {},
     "output_type": "execute_result"
    }
   ],
   "source": [
    "images = []\n",
    "for i, cls in enumerate(os.listdir(IMAGES_PATH)):\n",
    "    path = os.path.join(IMAGES_PATH, cls)\n",
    "    for image in os.listdir(path):\n",
    "        image_path = os.path.join(path, image)\n",
    "        images.append((image_path, i))\n",
    "len(images)"
   ]
  },
  {
   "cell_type": "code",
   "execution_count": 7,
   "metadata": {},
   "outputs": [
    {
     "name": "stderr",
     "output_type": "stream",
     "text": [
      "100%|██████████| 20/20 [00:08<00:00,  2.41it/s]\n"
     ]
    }
   ],
   "source": [
    "EXCEL_PATH = 'Log files'\n",
    "df = pd.DataFrame()\n",
    "for f in tqdm(os.listdir(EXCEL_PATH)):\n",
    "    if '~' in f:\n",
    "        continue\n",
    "    df = pd.concat((df, pd.read_excel(EXCEL_PATH + os.sep + f)), axis=0, ignore_index=True, sort=False)\n",
    "df.head()\n",
    "material_types = df['ns1:Material'].fillna('').unique()\n",
    "material_df = df[['ns1:FinishNodeRef', 'ns1:StartNodeRef', 'ns1:Material']].groupby(['ns1:StartNodeRef', 'ns1:FinishNodeRef', 'ns1:Material'], as_index=False).max()\n",
    "material_df = material_df.apply(lambda x: x.reset_index(drop=True))"
   ]
  },
  {
   "cell_type": "code",
   "execution_count": 8,
   "metadata": {},
   "outputs": [],
   "source": [
    "ALLOWED_MATERIALS = {'VC':0, 'AC':1, 'BR':2, 'CI':3, 'CO':4}"
   ]
  },
  {
   "cell_type": "code",
   "execution_count": 9,
   "metadata": {},
   "outputs": [
    {
     "name": "stderr",
     "output_type": "stream",
     "text": [
      "100%|██████████| 26145/26145 [00:33<00:00, 782.99it/s]\n"
     ]
    },
    {
     "data": {
      "text/plain": [
       "['defect_images/CL/ST32473101_ST32473104_D_230317_1.mpg_continous_416.jpg',\n",
       " 'defect_images/CL/ST32473101_ST32473104_D_230317_1.mpg_continous_421.jpg',\n",
       " 'defect_images/CL/ST32473101_ST32473104_D_230317_1.mpg_continous_426.jpg',\n",
       " 'defect_images/CL/ST32473101_ST32473104_D_230317_1.mpg_continous_431.jpg',\n",
       " 'defect_images/CL/ST32473101_ST32473104_D_230317_1.mpg_continous_436.jpg']"
      ]
     },
     "execution_count": 9,
     "metadata": {},
     "output_type": "execute_result"
    }
   ],
   "source": [
    "images_to_split = []\n",
    "y_to_split = []\n",
    "for image in tqdm(images):\n",
    "    path = image[0]\n",
    "    *_, img_name = path.rsplit('/', 1)\n",
    "    start_node, end_node, *_ = img_name.split('_')\n",
    "    # print(start_node, end_node)\n",
    "    material = material_df.loc[(material_df['ns1:FinishNodeRef'] == end_node) & (material_df['ns1:StartNodeRef'] == start_node)]['ns1:Material']\n",
    "    material = material.to_numpy()[0]\n",
    "    try:\n",
    "        ALLOWED_MATERIALS[material]\n",
    "    except KeyError:\n",
    "        continue\n",
    "    y_to_split.append(image[1])\n",
    "    images_to_split.append(path)\n",
    "images_to_split[:5]"
   ]
  },
  {
   "cell_type": "code",
   "execution_count": 10,
   "metadata": {},
   "outputs": [
    {
     "data": {
      "text/plain": [
       "['defect_images/healthy_images/ST69051401_ST69052401_D_271115_46.mpg_314.0999999999998.jpg',\n",
       " 'defect_images/healthy_images/ST69051401_ST69052401_D_271115_46.mpg_652.8999999999943.jpg',\n",
       " 'defect_images/CUW/ST83693501_ST83694506_U_010615_2.mpg_continous_567.jpg',\n",
       " 'defect_images/DEG/ST03397003_ST03397002_U_290714_4.mpg_continous_622.jpg',\n",
       " 'defect_images/healthy_images/ST69067301_ST69068301_D_301115_83.mpg_239.90000000000066.jpg']"
      ]
     },
     "execution_count": 10,
     "metadata": {},
     "output_type": "execute_result"
    }
   ],
   "source": [
    "X_train, X_test, y_train, y_test = train_test_split(images_to_split, y_to_split, test_size=.2, stratify=y_to_split)\n",
    "X_train, X_val, y_train, y_val = train_test_split(X_train, y_train, test_size=.2, stratify=y_train)\n",
    "X_train[:5]"
   ]
  },
  {
   "cell_type": "code",
   "execution_count": 11,
   "metadata": {},
   "outputs": [
    {
     "data": {
      "text/plain": [
       "'CL'"
      ]
     },
     "execution_count": 11,
     "metadata": {},
     "output_type": "execute_result"
    }
   ],
   "source": [
    "img = images[0][0]\n",
    "img.split('/', 2)[1]"
   ]
  },
  {
   "cell_type": "code",
   "execution_count": 12,
   "metadata": {},
   "outputs": [
    {
     "name": "stderr",
     "output_type": "stream",
     "text": [
      "15502it [11:33, 22.36it/s]\n",
      "3876it [02:29, 25.98it/s]\n",
      "4845it [03:16, 24.68it/s]\n"
     ]
    }
   ],
   "source": [
    "from shutil import copyfile\n",
    "import shutil\n",
    "\n",
    "TRAIN_FOLDER = 'Images/train'\n",
    "VALIDATION_FOLDER = 'Images/validation'\n",
    "TEST_FOLDER = 'Images/test'\n",
    "DEFECT_IMAGES = 'defect_images'\n",
    "HEALTHY_IMAGES = 'healthy_images'\n",
    "\n",
    "for x, y in tqdm(zip(X_train, y_train)):\n",
    "    *_, img_name = x.split('/')\n",
    "    try:\n",
    "        shutil.copy(x, os.path.join(TRAIN_FOLDER, x.split('/', 2)[1], img_name))\n",
    "    except IOError as io_err:\n",
    "        os.makedirs(os.path.dirname(os.path.join(TRAIN_FOLDER, x.split('/', 2)[1], img_name)))\n",
    "        shutil.copy(x, os.path.join(TRAIN_FOLDER, x.split('/', 2)[1], img_name))\n",
    "\n",
    "for x, y in tqdm(zip(X_val, y_val)):\n",
    "    *_, img_name = x.split('/')\n",
    "    try:\n",
    "        shutil.copy(x, os.path.join(VALIDATION_FOLDER, x.split('/', 2)[1], img_name))\n",
    "    except IOError as io_err:\n",
    "        os.makedirs(os.path.dirname(os.path.join(VALIDATION_FOLDER, x.split('/', 2)[1], img_name)))\n",
    "        shutil.copy(x, os.path.join(VALIDATION_FOLDER, x.split('/', 2)[1], img_name))\n",
    "\n",
    "for x, y in tqdm(zip(X_test, y_test)):\n",
    "    *_, img_name = x.split('/')\n",
    "    try:\n",
    "        shutil.copy(x, os.path.join(TEST_FOLDER, x.split('/', 2)[1], img_name))\n",
    "    except IOError as io_err:\n",
    "        os.makedirs(os.path.dirname(os.path.join(TEST_FOLDER, x.split('/', 2)[1], img_name)))\n",
    "        shutil.copy(x, os.path.join(TEST_FOLDER, x.split('/', 2)[1], img_name))"
   ]
  }
 ],
 "metadata": {
  "kernelspec": {
   "display_name": "Python 3",
   "language": "python",
   "name": "python3"
  },
  "language_info": {
   "codemirror_mode": {
    "name": "ipython",
    "version": 3
   },
   "file_extension": ".py",
   "mimetype": "text/x-python",
   "name": "python",
   "nbconvert_exporter": "python",
   "pygments_lexer": "ipython3",
   "version": "3.8.2"
  }
 },
 "nbformat": 4,
 "nbformat_minor": 4
}
